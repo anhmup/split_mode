{
  "nbformat": 4,
  "nbformat_minor": 0,
  "metadata": {
    "colab": {
      "provenance": [],
      "gpuType": "T4"
    },
    "kernelspec": {
      "name": "python3",
      "display_name": "Python 3"
    },
    "language_info": {
      "name": "python"
    },
    "accelerator": "GPU"
  },
  "cells": [
    {
      "cell_type": "code",
      "source": [
        "# !pip uninstall tensorflow\n",
        "# !pip install tensorflow==2.11.0"
      ],
      "metadata": {
        "id": "rSvjz2cUZun_"
      },
      "execution_count": 1,
      "outputs": []
    },
    {
      "cell_type": "code",
      "source": [
        "import tensorflow as tf\n",
        "print(tf.__version__)"
      ],
      "metadata": {
        "colab": {
          "base_uri": "https://localhost:8080/"
        },
        "id": "gus9SsUlYFSM",
        "outputId": "3c0ab67e-14f8-48cc-84f6-ae58eaa1c84c"
      },
      "execution_count": 2,
      "outputs": [
        {
          "output_type": "stream",
          "name": "stdout",
          "text": [
            "2.11.0\n"
          ]
        }
      ]
    },
    {
      "cell_type": "code",
      "execution_count": 3,
      "metadata": {
        "id": "N-o4ISFYSVy5"
      },
      "outputs": [],
      "source": [
        "import os\n",
        "import numpy as np\n",
        "import tensorflow as tf\n",
        "from tensorflow.keras import layers\n",
        "from tensorflow.keras.layers import Input, Conv2D, MaxPooling2D, UpSampling2D, concatenate , LeakyReLU, BatchNormalization , ReLU\n",
        "from tensorflow.keras.models import Model\n",
        "from tensorflow.keras.callbacks import EarlyStopping\n",
        "import keras.backend as K\n",
        "import pandas as pd\n",
        "import numpy as np\n",
        "import cv2\n",
        "# import imutils\n",
        "import matplotlib.pyplot as plt\n",
        "from PIL import Image"
      ]
    },
    {
      "cell_type": "code",
      "source": [
        "def identity_block(input_tensor, kernel_size, filter_num, stage):\n",
        "    x = layers.Conv2D(filter_num, (1,1))(input_tensor)\n",
        "    x = layers.BatchNormalization()(x)\n",
        "    x = layers.Activation('relu')(x)\n",
        "\n",
        "    x = layers.Conv2D(filter_num, kernel_size, padding ='same')(x)\n",
        "    x = layers.BatchNormalization()(x)\n",
        "    x = layers.Activation('relu')(x)\n",
        "\n",
        "    x = layers.add([x, input_tensor])\n",
        "    x = layers.Activation('relu')(x)\n",
        "    return x\n",
        "\n",
        "def conv_block(input_tensor,kernel_size,filter_num,stage,strides=(2, 2)):\n",
        "    x = layers.Conv2D(filter_num, (1, 1), strides=strides)(input_tensor)\n",
        "    x = layers.BatchNormalization()(x)\n",
        "    x = layers.Activation('relu')(x)\n",
        "\n",
        "    x = layers.Conv2D(filter_num, kernel_size, padding='same')(x)\n",
        "    x = layers.BatchNormalization()(x)\n",
        "    x = layers.Activation('relu')(x)\n",
        "\n",
        "    shortcut = layers.Conv2D(filter_num, (1, 1), strides=strides)(input_tensor)\n",
        "    shortcut = layers.BatchNormalization()(shortcut)\n",
        "\n",
        "    x = layers.add([x, shortcut])\n",
        "    x = layers.Activation('relu')(x)\n",
        "\n",
        "    return x"
      ],
      "metadata": {
        "id": "kVdVj5wnVAKF"
      },
      "execution_count": 4,
      "outputs": []
    },
    {
      "cell_type": "code",
      "source": [
        "def sun_branch(x):\n",
        "    x = layers.MaxPooling2D(pool_size=(1, 2), strides=(1, 2), padding='same')(x)\n",
        "    x = layers.Conv2D(32, kernel_size = 3 , strides= 1, padding = 'same')(x)\n",
        "    x = layers.Activation('relu')(x)\n",
        "    return x"
      ],
      "metadata": {
        "id": "m83xlFf0VEb6"
      },
      "execution_count": 5,
      "outputs": []
    },
    {
      "cell_type": "code",
      "source": [
        "def res_net_18(input_tensor):\n",
        "    #input_tensor = Input(shape=(height, width, depth))\n",
        "\n",
        "    x = layers.Conv2D(64, (7, 7),strides=(2, 2),padding='same',name='input')(input_tensor)\n",
        "    x = layers.BatchNormalization()(x)\n",
        "    x = layers.Activation('relu')(x)\n",
        "    x = layers.MaxPooling2D((3, 3), strides=(2, 2), padding = 'same')(x)\n",
        "\n",
        "    x = conv_block(x, 3, 64, stage=2, strides=(1, 1))\n",
        "    c2 = identity_block(x, 3, 64, stage=2)\n",
        "\n",
        "    x = conv_block(c2, 3, 128, stage=3)\n",
        "    c3 = identity_block(x, 3, 128, stage=3)\n",
        "\n",
        "    x = conv_block(c3, 3, 256, stage=4)\n",
        "    c4 = identity_block(x, 3, 256, stage=4)\n",
        "\n",
        "    x = conv_block(c4, 3, 512, stage=5)\n",
        "    c5 = identity_block(x, 3, 512, stage=5)\n",
        "\n",
        "    #model = Model(inputs=input_tensor , outputs = x)\n",
        "    return c2, c3 , c4 ,c5"
      ],
      "metadata": {
        "id": "ytd5BY3tVFsU"
      },
      "execution_count": 6,
      "outputs": []
    },
    {
      "cell_type": "code",
      "source": [
        "def lateral(x, out_channels):\n",
        "    x = layers.Conv2D(out_channels, (1, 1), padding='same')(x)\n",
        "    return  x\n",
        "def upsampling_add(x,y):\n",
        "    b,h,w,c = y.shape\n",
        "    x = tf.image.resize(x, (h,w), method='bilinear')\n",
        "    return layers.add([x,y])\n",
        "def smooth(x):\n",
        "    x = Conv2D(256, kernel_size = 3, strides = 1, padding ='same')(x)\n",
        "    return x"
      ],
      "metadata": {
        "id": "oQSdSZy2VHGP"
      },
      "execution_count": 7,
      "outputs": []
    },
    {
      "cell_type": "code",
      "source": [
        "def upsample_combined(input_tensor, target_shape):\n",
        "    x = input_tensor\n",
        "    x = tf.image.resize(x, target_shape, method='bilinear')\n",
        "    x = layers.Conv2D(256, (3, 3), padding='same')(x)\n",
        "    x = layers.BatchNormalization()(x)\n",
        "    x = layers.ReLU()(x)\n",
        "    return x"
      ],
      "metadata": {
        "id": "sfBR4Qw2VIFy"
      },
      "execution_count": 8,
      "outputs": []
    },
    {
      "cell_type": "code",
      "source": [
        "def mess_passing(x , mode):\n",
        "    b,h,w,c = x.get_shape().as_list()\n",
        "    if mode == 'H':\n",
        "        feature_list_old = []\n",
        "        feature_list_new = []\n",
        "        for cnt in range(h):\n",
        "            feature_list_old.append(tf.expand_dims(x[:, cnt, :, :], axis=1))\n",
        "        feature_list_new.append(tf.expand_dims(x[:, 0, :, :], axis=1))\n",
        "        t2d_layers = Conv2D(c, kernel_size = [1,9], strides = (1,1), padding ='same')\n",
        "        relu = layers.Activation('relu',name='t2d_relu')\n",
        "        feature = t2d_layers(feature_list_old[0])\n",
        "        feature = relu(feature) + feature_list_old[1]\n",
        "        feature_list_new.append(feature)\n",
        "\n",
        "        for cnt in range(2, h):\n",
        "            feature = t2d_layers(feature_list_new[cnt - 1])\n",
        "            feature = relu(feature) + feature_list_old[cnt]\n",
        "            feature_list_new.append(feature)\n",
        "\n",
        "\n",
        "        feature_list_new.append(feature)\n",
        "        feature_list_old = feature_list_new\n",
        "        feature_list_new = []\n",
        "        length = h - 1\n",
        "        feature_list_new.append(feature_list_old[length])\n",
        "        d2t_layers = Conv2D(c, kernel_size = [1,9], strides = (1,1), padding ='same')\n",
        "        relu = layers.Activation('relu' ,  name='d2t_relu')\n",
        "        feature = d2t_layers(feature_list_old[length])\n",
        "        feature = relu(feature) + feature_list_old[length - 1]\n",
        "        feature_list_new.append(feature)\n",
        "        for cnt in range(2, h):\n",
        "            feature = d2t_layers(feature_list_new[cnt - 1])\n",
        "            feature = relu(feature) + feature_list_old[length - cnt]\n",
        "            feature_list_new.append(feature)\n",
        "        feature_list_new.reverse()\n",
        "        processed_feature = tf.stack(feature_list_new, axis=1)\n",
        "        processed_feature = tf.squeeze(processed_feature, axis=2)\n",
        "\n",
        "        return processed_feature\n",
        "    elif mode == 'W':\n",
        "        feature_list_old = []\n",
        "        feature_list_new = []\n",
        "\n",
        "\n",
        "        for cnt in range(w):\n",
        "            feature_list_old.append(tf.expand_dims(x[:, :, cnt, :], axis=2))\n",
        "        feature_list_new.append(tf.expand_dims(x[:, :, 0, :], axis=2))\n",
        "        l2r_layers = Conv2D(c, kernel_size = [9,1],  strides = (1,1), padding ='same')\n",
        "        relu = layers.Activation('relu', name='l2r_relu')\n",
        "        feature = l2r_layers(feature_list_old[0])\n",
        "        feature = relu(feature) + feature_list_old[1]\n",
        "        feature_list_new.append(feature)\n",
        "        for cnt in range(2, w):\n",
        "            feature = l2r_layers(feature_list_new[cnt - 1])\n",
        "            feature = relu(feature) + feature_list_old[cnt]\n",
        "            feature_list_new.append(feature)\n",
        "\n",
        "\n",
        "        feature_list_old = feature_list_new\n",
        "        feature_list_new = []\n",
        "        length = w - 1\n",
        "        feature_list_new.append(feature_list_old[length])\n",
        "\n",
        "        r2l_layers =  Conv2D(c, kernel_size = [9,1],  strides = (1,1), padding ='same')\n",
        "        relu = layers.Activation('relu', name='r2l_relu')\n",
        "        feature = r2l_layers(feature_list_old[length])\n",
        "        feature = relu(feature) + feature_list_old[length - 1]\n",
        "        feature_list_new.append(feature)\n",
        "\n",
        "        for cnt in range(2, w):\n",
        "            feature = r2l_layers(feature_list_new[cnt - 1])\n",
        "            feature = relu(feature) + feature_list_old[length - cnt]\n",
        "            feature_list_new.append(feature)\n",
        "        feature_list_new.reverse()\n",
        "        processed_feature = tf.stack(feature_list_new, axis=2)\n",
        "        processed_feature = tf.squeeze(processed_feature, axis=3)\n",
        "        return processed_feature\n",
        "\n",
        "    return b,h,w,c"
      ],
      "metadata": {
        "id": "SiJaxP5HVJNk"
      },
      "execution_count": 10,
      "outputs": []
    },
    {
      "cell_type": "code",
      "source": [
        "\n",
        "input_tensor = Input(shape=(512, 512, 3))\n",
        "c2, c3 , c4 ,c5  = res_net_18(input_tensor)\n",
        "# print(c2.shape)\n",
        "m5 = lateral(c5, 256)\n",
        "\n",
        "m4_1 = lateral(c4,256)\n",
        "m3_1 = lateral(c3,256)\n",
        "m2_1 = lateral(c2,256)\n",
        "m4  = upsampling_add(m5, m4_1)\n",
        "m3  = upsampling_add(m4, m3_1)\n",
        "m2  = upsampling_add(m3, m2_1)\n",
        "\n",
        "p5 = smooth(m5)\n",
        "p4 = smooth(m4)\n",
        "p3 = smooth(m3)\n",
        "p2 = smooth(m2)\n",
        "\n",
        "p2_2 = Conv2D(16, kernel_size = 3, strides = 1, padding ='same')(p2)\n",
        "\n",
        "spatial_row = sun_branch(p2_2)\n",
        "spatial_row = sun_branch(spatial_row)\n",
        "spatial_row = sun_branch(spatial_row)\n",
        "\n",
        "spatial_col = sun_branch(p2_2)\n",
        "spatial_col = sun_branch(spatial_col)\n",
        "spatial_col = sun_branch(spatial_col)\n",
        "\n",
        "row_feature = mess_passing(spatial_row, mode = 'H')\n",
        "col_feature = mess_passing(spatial_col, mode = 'W')\n",
        "\n",
        "final_row_feature = upsample_combined(row_feature,target_shape=(512,512) )\n",
        "final_col_feature = upsample_combined(col_feature,target_shape=(512,512) )\n",
        "\n",
        "final_row_feature = Conv2D(1, kernel_size = 1,strides = 1, padding ='same')(final_row_feature)\n",
        "final_col_feature = Conv2D(1, kernel_size = 1,strides = 1, padding ='same')(final_col_feature)\n",
        "\n",
        "row_final = tf.keras.layers.Activation('sigmoid')(final_row_feature)\n",
        "# row_1D = tf.reduce_sum(final_row_feature,axis=2)\n",
        "# row_1D= row_1D/512\n",
        "\n",
        "col_final = tf.keras.layers.Activation('sigmoid')(final_col_feature)\n",
        "# col_1D= tf.reduce_sum(col, axis= 1 )\n",
        "# col_1D = col_1D/512\n",
        "\n",
        "out = {\"row\" :row_final , \"col\":col_final  }\n",
        "# row branch\n",
        "\n",
        "model = Model(inputs=input_tensor , outputs = out)"
      ],
      "metadata": {
        "id": "jdlWT8jVVONb"
      },
      "execution_count": 30,
      "outputs": []
    },
    {
      "cell_type": "code",
      "source": [
        "model.output_shape"
      ],
      "metadata": {
        "id": "dDeIDU2oZWYj",
        "colab": {
          "base_uri": "https://localhost:8080/"
        },
        "outputId": "2cd3e0db-5d74-4814-d218-fce58c457312"
      },
      "execution_count": 31,
      "outputs": [
        {
          "output_type": "execute_result",
          "data": {
            "text/plain": [
              "{'row': (None, 512, 512, 1), 'col': (None, 512, 512, 1)}"
            ]
          },
          "metadata": {},
          "execution_count": 31
        }
      ]
    },
    {
      "cell_type": "code",
      "source": [
        "model.compile(optimizer='adam',loss = {'row': 'binary_crossentropy', 'col': 'binary_crossentropy'},metrics=['accuracy'])"
      ],
      "metadata": {
        "id": "fjM4pkOAv7lj"
      },
      "execution_count": 32,
      "outputs": []
    },
    {
      "cell_type": "markdown",
      "source": [
        "# data"
      ],
      "metadata": {
        "id": "yetkYtH9af23"
      }
    },
    {
      "cell_type": "code",
      "source": [
        "from google.colab import drive\n",
        "drive.mount('/content/drive')"
      ],
      "metadata": {
        "colab": {
          "base_uri": "https://localhost:8080/"
        },
        "id": "5gCC4MQ9aiEg",
        "outputId": "cc8a280e-cf38-4228-d40e-4463c959f2a0"
      },
      "execution_count": 12,
      "outputs": [
        {
          "output_type": "stream",
          "name": "stdout",
          "text": [
            "Mounted at /content/drive\n"
          ]
        }
      ]
    },
    {
      "cell_type": "code",
      "source": [
        "import cv2\n",
        "import numpy as np\n",
        "import pandas as pd\n",
        "from collections import defaultdict\n",
        "import sys\n",
        "import xml.etree.ElementTree as ET\n",
        "from xml.dom import minidom\n",
        "import requests\n",
        "import tarfile\n",
        "\n",
        "from os import path\n",
        "from PIL import Image\n",
        "from PIL import ImageFont, ImageDraw\n",
        "from glob import glob\n",
        "from matplotlib import pyplot as plt\n",
        "\n",
        "from matplotlib.patches import  Rectangle\n",
        "from PIL import ImageFont, ImageDraw\n",
        "import tensorflow as tf"
      ],
      "metadata": {
        "id": "lQyHwpiSanev"
      },
      "execution_count": 13,
      "outputs": []
    },
    {
      "cell_type": "code",
      "source": [
        "import zipfile\n",
        "source_data_path = '/content/drive/MyDrive/fintab_split_table_image.zip'\n",
        "with zipfile.ZipFile(source_data_path, 'r') as zip_ref:\n",
        "    zip_ref.extractall('/content/source_data')"
      ],
      "metadata": {
        "id": "eKbtd1MAa50w"
      },
      "execution_count": 14,
      "outputs": []
    },
    {
      "cell_type": "code",
      "source": [
        "data_path =\"/content/source_data/fintab_split_table_image/\"\n",
        "final_data = pd.read_csv(\"/content/drive/MyDrive/final_dataframe_fintabnet_split.csv\")\n",
        "final_data"
      ],
      "metadata": {
        "colab": {
          "base_uri": "https://localhost:8080/",
          "height": 424
        },
        "id": "YfFlf_UybeNR",
        "outputId": "6dd24a18-9bc8-4e48-a80c-631cce078948"
      },
      "execution_count": 15,
      "outputs": [
        {
          "output_type": "execute_result",
          "data": {
            "text/plain": [
              "                             0  \\\n",
              "0       HAL_2009_page_77-1.jpg   \n",
              "1       HAL_2005_page_92-1.jpg   \n",
              "2       HAL_2014_page_40-1.jpg   \n",
              "3       HAL_2009_page_49-1.jpg   \n",
              "4       HAL_2015_page_42-1.jpg   \n",
              "...                        ...   \n",
              "4496   VRSK_2013_page_94-1.jpg   \n",
              "4497  VRSK_2015_page_123-1.jpg   \n",
              "4498  VRSK_2011_page_100-1.jpg   \n",
              "4499  VRSK_2018_page_144-1.jpg   \n",
              "4500  VRSK_2017_page_109-1.jpg   \n",
              "\n",
              "                                                      1  \n",
              "0     [[[1, 1, 0, 0, 0, 0, 0, 0, 0, 0, 0, 0, 0, 1, 1...  \n",
              "1     [[[0, 0, 0, 0, 0, 0, 0, 0, 0, 0, 0, 0, 0, 0, 0...  \n",
              "2     [[[1, 1, 0, 0, 0, 0, 0, 0, 0, 0, 0, 0, 0, 1, 1...  \n",
              "3     [[[1, 1, 0, 0, 0, 0, 0, 0, 0, 0, 0, 0, 0, 1, 1...  \n",
              "4     [[[1, 0, 0, 0, 0, 0, 0, 0, 0, 0, 0, 0, 1, 1, 1...  \n",
              "...                                                 ...  \n",
              "4496  [[[0, 0, 0, 0, 0, 0, 0, 0, 0, 0, 0, 0, 0, 0, 0...  \n",
              "4497  [[[0, 0, 0, 0, 0, 0, 0, 0, 0, 0, 0, 0, 0, 0, 0...  \n",
              "4498  [[[0, 0, 0, 0, 0, 0, 0, 0, 0, 1, 1, 1, 1, 1, 1...  \n",
              "4499  [[[0, 0, 0, 0, 0, 0, 0, 0, 0, 0, 0, 0, 0, 0, 0...  \n",
              "4500  [[[0, 0, 0, 0, 0, 0, 0, 0, 0, 0, 0, 0, 0, 0, 0...  \n",
              "\n",
              "[4501 rows x 2 columns]"
            ],
            "text/html": [
              "\n",
              "  <div id=\"df-d7b6fd5a-d073-4b9f-9eb0-628c9c8796b6\" class=\"colab-df-container\">\n",
              "    <div>\n",
              "<style scoped>\n",
              "    .dataframe tbody tr th:only-of-type {\n",
              "        vertical-align: middle;\n",
              "    }\n",
              "\n",
              "    .dataframe tbody tr th {\n",
              "        vertical-align: top;\n",
              "    }\n",
              "\n",
              "    .dataframe thead th {\n",
              "        text-align: right;\n",
              "    }\n",
              "</style>\n",
              "<table border=\"1\" class=\"dataframe\">\n",
              "  <thead>\n",
              "    <tr style=\"text-align: right;\">\n",
              "      <th></th>\n",
              "      <th>0</th>\n",
              "      <th>1</th>\n",
              "    </tr>\n",
              "  </thead>\n",
              "  <tbody>\n",
              "    <tr>\n",
              "      <th>0</th>\n",
              "      <td>HAL_2009_page_77-1.jpg</td>\n",
              "      <td>[[[1, 1, 0, 0, 0, 0, 0, 0, 0, 0, 0, 0, 0, 1, 1...</td>\n",
              "    </tr>\n",
              "    <tr>\n",
              "      <th>1</th>\n",
              "      <td>HAL_2005_page_92-1.jpg</td>\n",
              "      <td>[[[0, 0, 0, 0, 0, 0, 0, 0, 0, 0, 0, 0, 0, 0, 0...</td>\n",
              "    </tr>\n",
              "    <tr>\n",
              "      <th>2</th>\n",
              "      <td>HAL_2014_page_40-1.jpg</td>\n",
              "      <td>[[[1, 1, 0, 0, 0, 0, 0, 0, 0, 0, 0, 0, 0, 1, 1...</td>\n",
              "    </tr>\n",
              "    <tr>\n",
              "      <th>3</th>\n",
              "      <td>HAL_2009_page_49-1.jpg</td>\n",
              "      <td>[[[1, 1, 0, 0, 0, 0, 0, 0, 0, 0, 0, 0, 0, 1, 1...</td>\n",
              "    </tr>\n",
              "    <tr>\n",
              "      <th>4</th>\n",
              "      <td>HAL_2015_page_42-1.jpg</td>\n",
              "      <td>[[[1, 0, 0, 0, 0, 0, 0, 0, 0, 0, 0, 0, 1, 1, 1...</td>\n",
              "    </tr>\n",
              "    <tr>\n",
              "      <th>...</th>\n",
              "      <td>...</td>\n",
              "      <td>...</td>\n",
              "    </tr>\n",
              "    <tr>\n",
              "      <th>4496</th>\n",
              "      <td>VRSK_2013_page_94-1.jpg</td>\n",
              "      <td>[[[0, 0, 0, 0, 0, 0, 0, 0, 0, 0, 0, 0, 0, 0, 0...</td>\n",
              "    </tr>\n",
              "    <tr>\n",
              "      <th>4497</th>\n",
              "      <td>VRSK_2015_page_123-1.jpg</td>\n",
              "      <td>[[[0, 0, 0, 0, 0, 0, 0, 0, 0, 0, 0, 0, 0, 0, 0...</td>\n",
              "    </tr>\n",
              "    <tr>\n",
              "      <th>4498</th>\n",
              "      <td>VRSK_2011_page_100-1.jpg</td>\n",
              "      <td>[[[0, 0, 0, 0, 0, 0, 0, 0, 0, 1, 1, 1, 1, 1, 1...</td>\n",
              "    </tr>\n",
              "    <tr>\n",
              "      <th>4499</th>\n",
              "      <td>VRSK_2018_page_144-1.jpg</td>\n",
              "      <td>[[[0, 0, 0, 0, 0, 0, 0, 0, 0, 0, 0, 0, 0, 0, 0...</td>\n",
              "    </tr>\n",
              "    <tr>\n",
              "      <th>4500</th>\n",
              "      <td>VRSK_2017_page_109-1.jpg</td>\n",
              "      <td>[[[0, 0, 0, 0, 0, 0, 0, 0, 0, 0, 0, 0, 0, 0, 0...</td>\n",
              "    </tr>\n",
              "  </tbody>\n",
              "</table>\n",
              "<p>4501 rows × 2 columns</p>\n",
              "</div>\n",
              "    <div class=\"colab-df-buttons\">\n",
              "\n",
              "  <div class=\"colab-df-container\">\n",
              "    <button class=\"colab-df-convert\" onclick=\"convertToInteractive('df-d7b6fd5a-d073-4b9f-9eb0-628c9c8796b6')\"\n",
              "            title=\"Convert this dataframe to an interactive table.\"\n",
              "            style=\"display:none;\">\n",
              "\n",
              "  <svg xmlns=\"http://www.w3.org/2000/svg\" height=\"24px\" viewBox=\"0 -960 960 960\">\n",
              "    <path d=\"M120-120v-720h720v720H120Zm60-500h600v-160H180v160Zm220 220h160v-160H400v160Zm0 220h160v-160H400v160ZM180-400h160v-160H180v160Zm440 0h160v-160H620v160ZM180-180h160v-160H180v160Zm440 0h160v-160H620v160Z\"/>\n",
              "  </svg>\n",
              "    </button>\n",
              "\n",
              "  <style>\n",
              "    .colab-df-container {\n",
              "      display:flex;\n",
              "      gap: 12px;\n",
              "    }\n",
              "\n",
              "    .colab-df-convert {\n",
              "      background-color: #E8F0FE;\n",
              "      border: none;\n",
              "      border-radius: 50%;\n",
              "      cursor: pointer;\n",
              "      display: none;\n",
              "      fill: #1967D2;\n",
              "      height: 32px;\n",
              "      padding: 0 0 0 0;\n",
              "      width: 32px;\n",
              "    }\n",
              "\n",
              "    .colab-df-convert:hover {\n",
              "      background-color: #E2EBFA;\n",
              "      box-shadow: 0px 1px 2px rgba(60, 64, 67, 0.3), 0px 1px 3px 1px rgba(60, 64, 67, 0.15);\n",
              "      fill: #174EA6;\n",
              "    }\n",
              "\n",
              "    .colab-df-buttons div {\n",
              "      margin-bottom: 4px;\n",
              "    }\n",
              "\n",
              "    [theme=dark] .colab-df-convert {\n",
              "      background-color: #3B4455;\n",
              "      fill: #D2E3FC;\n",
              "    }\n",
              "\n",
              "    [theme=dark] .colab-df-convert:hover {\n",
              "      background-color: #434B5C;\n",
              "      box-shadow: 0px 1px 3px 1px rgba(0, 0, 0, 0.15);\n",
              "      filter: drop-shadow(0px 1px 2px rgba(0, 0, 0, 0.3));\n",
              "      fill: #FFFFFF;\n",
              "    }\n",
              "  </style>\n",
              "\n",
              "    <script>\n",
              "      const buttonEl =\n",
              "        document.querySelector('#df-d7b6fd5a-d073-4b9f-9eb0-628c9c8796b6 button.colab-df-convert');\n",
              "      buttonEl.style.display =\n",
              "        google.colab.kernel.accessAllowed ? 'block' : 'none';\n",
              "\n",
              "      async function convertToInteractive(key) {\n",
              "        const element = document.querySelector('#df-d7b6fd5a-d073-4b9f-9eb0-628c9c8796b6');\n",
              "        const dataTable =\n",
              "          await google.colab.kernel.invokeFunction('convertToInteractive',\n",
              "                                                    [key], {});\n",
              "        if (!dataTable) return;\n",
              "\n",
              "        const docLinkHtml = 'Like what you see? Visit the ' +\n",
              "          '<a target=\"_blank\" href=https://colab.research.google.com/notebooks/data_table.ipynb>data table notebook</a>'\n",
              "          + ' to learn more about interactive tables.';\n",
              "        element.innerHTML = '';\n",
              "        dataTable['output_type'] = 'display_data';\n",
              "        await google.colab.output.renderOutput(dataTable, element);\n",
              "        const docLink = document.createElement('div');\n",
              "        docLink.innerHTML = docLinkHtml;\n",
              "        element.appendChild(docLink);\n",
              "      }\n",
              "    </script>\n",
              "  </div>\n",
              "\n",
              "\n",
              "<div id=\"df-08f5da57-aef2-4d12-9696-e68eb11087a6\">\n",
              "  <button class=\"colab-df-quickchart\" onclick=\"quickchart('df-08f5da57-aef2-4d12-9696-e68eb11087a6')\"\n",
              "            title=\"Suggest charts\"\n",
              "            style=\"display:none;\">\n",
              "\n",
              "<svg xmlns=\"http://www.w3.org/2000/svg\" height=\"24px\"viewBox=\"0 0 24 24\"\n",
              "     width=\"24px\">\n",
              "    <g>\n",
              "        <path d=\"M19 3H5c-1.1 0-2 .9-2 2v14c0 1.1.9 2 2 2h14c1.1 0 2-.9 2-2V5c0-1.1-.9-2-2-2zM9 17H7v-7h2v7zm4 0h-2V7h2v10zm4 0h-2v-4h2v4z\"/>\n",
              "    </g>\n",
              "</svg>\n",
              "  </button>\n",
              "\n",
              "<style>\n",
              "  .colab-df-quickchart {\n",
              "      --bg-color: #E8F0FE;\n",
              "      --fill-color: #1967D2;\n",
              "      --hover-bg-color: #E2EBFA;\n",
              "      --hover-fill-color: #174EA6;\n",
              "      --disabled-fill-color: #AAA;\n",
              "      --disabled-bg-color: #DDD;\n",
              "  }\n",
              "\n",
              "  [theme=dark] .colab-df-quickchart {\n",
              "      --bg-color: #3B4455;\n",
              "      --fill-color: #D2E3FC;\n",
              "      --hover-bg-color: #434B5C;\n",
              "      --hover-fill-color: #FFFFFF;\n",
              "      --disabled-bg-color: #3B4455;\n",
              "      --disabled-fill-color: #666;\n",
              "  }\n",
              "\n",
              "  .colab-df-quickchart {\n",
              "    background-color: var(--bg-color);\n",
              "    border: none;\n",
              "    border-radius: 50%;\n",
              "    cursor: pointer;\n",
              "    display: none;\n",
              "    fill: var(--fill-color);\n",
              "    height: 32px;\n",
              "    padding: 0;\n",
              "    width: 32px;\n",
              "  }\n",
              "\n",
              "  .colab-df-quickchart:hover {\n",
              "    background-color: var(--hover-bg-color);\n",
              "    box-shadow: 0 1px 2px rgba(60, 64, 67, 0.3), 0 1px 3px 1px rgba(60, 64, 67, 0.15);\n",
              "    fill: var(--button-hover-fill-color);\n",
              "  }\n",
              "\n",
              "  .colab-df-quickchart-complete:disabled,\n",
              "  .colab-df-quickchart-complete:disabled:hover {\n",
              "    background-color: var(--disabled-bg-color);\n",
              "    fill: var(--disabled-fill-color);\n",
              "    box-shadow: none;\n",
              "  }\n",
              "\n",
              "  .colab-df-spinner {\n",
              "    border: 2px solid var(--fill-color);\n",
              "    border-color: transparent;\n",
              "    border-bottom-color: var(--fill-color);\n",
              "    animation:\n",
              "      spin 1s steps(1) infinite;\n",
              "  }\n",
              "\n",
              "  @keyframes spin {\n",
              "    0% {\n",
              "      border-color: transparent;\n",
              "      border-bottom-color: var(--fill-color);\n",
              "      border-left-color: var(--fill-color);\n",
              "    }\n",
              "    20% {\n",
              "      border-color: transparent;\n",
              "      border-left-color: var(--fill-color);\n",
              "      border-top-color: var(--fill-color);\n",
              "    }\n",
              "    30% {\n",
              "      border-color: transparent;\n",
              "      border-left-color: var(--fill-color);\n",
              "      border-top-color: var(--fill-color);\n",
              "      border-right-color: var(--fill-color);\n",
              "    }\n",
              "    40% {\n",
              "      border-color: transparent;\n",
              "      border-right-color: var(--fill-color);\n",
              "      border-top-color: var(--fill-color);\n",
              "    }\n",
              "    60% {\n",
              "      border-color: transparent;\n",
              "      border-right-color: var(--fill-color);\n",
              "    }\n",
              "    80% {\n",
              "      border-color: transparent;\n",
              "      border-right-color: var(--fill-color);\n",
              "      border-bottom-color: var(--fill-color);\n",
              "    }\n",
              "    90% {\n",
              "      border-color: transparent;\n",
              "      border-bottom-color: var(--fill-color);\n",
              "    }\n",
              "  }\n",
              "</style>\n",
              "\n",
              "  <script>\n",
              "    async function quickchart(key) {\n",
              "      const quickchartButtonEl =\n",
              "        document.querySelector('#' + key + ' button');\n",
              "      quickchartButtonEl.disabled = true;  // To prevent multiple clicks.\n",
              "      quickchartButtonEl.classList.add('colab-df-spinner');\n",
              "      try {\n",
              "        const charts = await google.colab.kernel.invokeFunction(\n",
              "            'suggestCharts', [key], {});\n",
              "      } catch (error) {\n",
              "        console.error('Error during call to suggestCharts:', error);\n",
              "      }\n",
              "      quickchartButtonEl.classList.remove('colab-df-spinner');\n",
              "      quickchartButtonEl.classList.add('colab-df-quickchart-complete');\n",
              "    }\n",
              "    (() => {\n",
              "      let quickchartButtonEl =\n",
              "        document.querySelector('#df-08f5da57-aef2-4d12-9696-e68eb11087a6 button');\n",
              "      quickchartButtonEl.style.display =\n",
              "        google.colab.kernel.accessAllowed ? 'block' : 'none';\n",
              "    })();\n",
              "  </script>\n",
              "</div>\n",
              "\n",
              "  <div id=\"id_4d05ebbb-aa64-46ba-91ca-6fb727b97468\">\n",
              "    <style>\n",
              "      .colab-df-generate {\n",
              "        background-color: #E8F0FE;\n",
              "        border: none;\n",
              "        border-radius: 50%;\n",
              "        cursor: pointer;\n",
              "        display: none;\n",
              "        fill: #1967D2;\n",
              "        height: 32px;\n",
              "        padding: 0 0 0 0;\n",
              "        width: 32px;\n",
              "      }\n",
              "\n",
              "      .colab-df-generate:hover {\n",
              "        background-color: #E2EBFA;\n",
              "        box-shadow: 0px 1px 2px rgba(60, 64, 67, 0.3), 0px 1px 3px 1px rgba(60, 64, 67, 0.15);\n",
              "        fill: #174EA6;\n",
              "      }\n",
              "\n",
              "      [theme=dark] .colab-df-generate {\n",
              "        background-color: #3B4455;\n",
              "        fill: #D2E3FC;\n",
              "      }\n",
              "\n",
              "      [theme=dark] .colab-df-generate:hover {\n",
              "        background-color: #434B5C;\n",
              "        box-shadow: 0px 1px 3px 1px rgba(0, 0, 0, 0.15);\n",
              "        filter: drop-shadow(0px 1px 2px rgba(0, 0, 0, 0.3));\n",
              "        fill: #FFFFFF;\n",
              "      }\n",
              "    </style>\n",
              "    <button class=\"colab-df-generate\" onclick=\"generateWithVariable('final_data')\"\n",
              "            title=\"Generate code using this dataframe.\"\n",
              "            style=\"display:none;\">\n",
              "\n",
              "  <svg xmlns=\"http://www.w3.org/2000/svg\" height=\"24px\"viewBox=\"0 0 24 24\"\n",
              "       width=\"24px\">\n",
              "    <path d=\"M7,19H8.4L18.45,9,17,7.55,7,17.6ZM5,21V16.75L18.45,3.32a2,2,0,0,1,2.83,0l1.4,1.43a1.91,1.91,0,0,1,.58,1.4,1.91,1.91,0,0,1-.58,1.4L9.25,21ZM18.45,9,17,7.55Zm-12,3A5.31,5.31,0,0,0,4.9,8.1,5.31,5.31,0,0,0,1,6.5,5.31,5.31,0,0,0,4.9,4.9,5.31,5.31,0,0,0,6.5,1,5.31,5.31,0,0,0,8.1,4.9,5.31,5.31,0,0,0,12,6.5,5.46,5.46,0,0,0,6.5,12Z\"/>\n",
              "  </svg>\n",
              "    </button>\n",
              "    <script>\n",
              "      (() => {\n",
              "      const buttonEl =\n",
              "        document.querySelector('#id_4d05ebbb-aa64-46ba-91ca-6fb727b97468 button.colab-df-generate');\n",
              "      buttonEl.style.display =\n",
              "        google.colab.kernel.accessAllowed ? 'block' : 'none';\n",
              "\n",
              "      buttonEl.onclick = () => {\n",
              "        google.colab.notebook.generateWithVariable('final_data');\n",
              "      }\n",
              "      })();\n",
              "    </script>\n",
              "  </div>\n",
              "\n",
              "    </div>\n",
              "  </div>\n"
            ],
            "application/vnd.google.colaboratory.intrinsic+json": {
              "type": "dataframe",
              "variable_name": "final_data",
              "summary": "{\n  \"name\": \"final_data\",\n  \"rows\": 4501,\n  \"fields\": [\n    {\n      \"column\": \"0\",\n      \"properties\": {\n        \"dtype\": \"string\",\n        \"num_unique_values\": 4501,\n        \"samples\": [\n          \"JNPR_2014_page_38-1.jpg\",\n          \"AKAM_2010_page_46-2.jpg\",\n          \"URI_2013_page_76-1.jpg\"\n        ],\n        \"semantic_type\": \"\",\n        \"description\": \"\"\n      }\n    },\n    {\n      \"column\": \"1\",\n      \"properties\": {\n        \"dtype\": \"string\",\n        \"num_unique_values\": 4208,\n        \"samples\": [\n          \"[[[0, 0, 0, 0, 0, 0, 0, 0, 0, 1, 1, 1, 0, 0, 0, 0, 0, 0, 0, 0, 0, 1, 1, 1, 1, 1, 1, 0, 0, 0, 0, 0, 0, 0, 0, 0, 0, 0, 1, 0, 0, 0, 0, 0, 0, 0, 0, 0, 0, 0, 1, 0, 0, 0, 0, 0, 0, 0, 0, 0, 0, 0, 0, 0, 0, 0, 0, 0, 0, 0, 0, 0, 0, 0, 1, 0, 0, 0, 0, 0, 0, 0, 0, 0, 0, 0, 1, 1, 1, 1, 1, 0, 0, 0, 0, 0, 0, 0, 0, 0, 0, 0], [0, 0, 0, 0, 0, 0, 0, 0, 0, 0, 0, 0, 0, 0, 0, 0, 0, 0, 0, 0, 0, 0, 0, 0, 0, 0, 0, 0, 0, 0, 0, 0, 0, 0, 0, 0, 0, 0, 0, 0, 0, 0, 0, 0, 0, 0, 0, 0, 0, 0, 0, 0, 0, 0, 0, 0, 0, 0, 0, 0, 0, 0, 0, 0, 0, 0, 0, 0, 0, 0, 0, 0, 0, 0, 0, 0, 0, 0, 0, 0, 0, 0, 0, 0, 0, 0, 0, 0, 0, 0, 0, 0, 0, 0, 0, 0, 0, 0, 0, 0, 0, 0, 0, 0, 0, 0, 0, 0, 0, 0, 0, 0, 0, 0, 0, 0, 0, 0, 0, 0, 0, 0, 0, 0, 0, 0, 0, 0, 0, 0, 0, 0, 0, 0, 0, 0, 0, 0, 0, 0, 0, 0, 0, 0, 0, 0, 0, 0, 0, 0, 0, 0, 0, 0, 0, 0, 0, 0, 0, 0, 0, 0, 0, 0, 0, 0, 0, 0, 0, 0, 0, 0, 0, 0, 0, 0, 0, 0, 0, 0, 0, 0, 0, 0, 0, 0, 0, 0, 0, 0, 0, 0, 0, 0, 0, 0, 0, 0, 0, 0, 0, 0, 0, 0, 0, 0, 0, 0, 0, 0, 0, 0, 0, 0, 0, 0, 0, 0, 0, 0, 0, 0, 0, 0, 0, 0, 0, 0, 0, 0, 0, 0, 0, 0, 1, 1, 1, 1, 1, 1, 1, 1, 1, 1, 0, 0, 0, 0, 0, 0, 0, 0, 0, 0, 0, 0, 0, 0, 0, 0, 0, 0, 0, 0, 0, 0, 0, 0, 0, 0, 0, 0, 0, 0, 0, 0, 0, 0, 1, 1, 1, 1, 1, 1, 1, 0, 0, 0, 0, 0, 0, 0, 0, 0, 0, 0, 0, 0, 0, 0, 0, 0, 0, 0, 0, 0, 0, 0, 0, 0, 0, 0, 0, 0, 0, 0, 0, 0, 0, 1, 1, 1, 1, 1, 1, 1, 0, 0, 0, 0, 0, 0, 0, 0, 0, 0, 0, 0, 0, 0, 0, 0, 0, 0, 0, 0, 0, 0, 0, 0, 0, 0, 0, 0, 0, 0, 0, 0, 0, 0, 1, 1, 1, 1, 1, 1, 0, 0, 0, 0, 0, 0, 0, 0, 0, 0, 0, 0, 0, 0, 0, 0, 0, 0, 0, 0, 0, 0, 0, 0, 0, 0, 0, 1, 1, 1, 1, 1, 1, 1, 0, 0, 0, 0, 0, 0, 0, 0, 0, 0, 0, 0, 0, 0, 0, 0, 0, 0, 0, 0, 0, 0, 0, 0, 0, 0, 1, 1, 1, 1, 1, 1, 1, 0, 0, 0, 0, 0, 0, 0, 0, 0, 0, 0, 0, 0, 0, 0, 0, 0, 0, 0, 0, 0, 0, 0, 0, 0, 0, 0]]]\",\n          \"[[[0, 0, 0, 0, 0, 0, 0, 0, 0, 1, 1, 1, 1, 1, 1, 1, 1, 1, 1, 1, 1, 1, 1, 1, 1, 1, 1, 0, 0, 0, 0, 0, 0, 0, 0, 0, 0, 0, 0, 0, 0, 0, 0, 0, 1, 1, 1, 1, 1, 1, 1, 0, 0, 0, 0, 0, 0, 0, 0, 0, 0, 0, 1, 1, 1, 0, 0, 0, 0, 0, 0, 0, 0, 0, 0, 0, 1, 1, 1, 0, 0, 0, 0, 0, 0, 0, 0, 0, 0, 0, 1, 1, 1, 0, 0, 0, 0, 0, 0, 0, 0, 0, 0, 0, 1, 1, 1, 0, 0, 0, 0, 0, 0, 0, 0, 0, 0, 0, 1, 1, 1, 0, 0, 0, 0, 0, 0, 0, 0, 0, 0, 0, 1, 1, 1, 0, 0, 0, 0, 0, 0, 0, 0, 0, 0, 0, 1, 1, 1, 0, 0, 0, 0, 0, 0, 0, 0, 0, 0, 0, 1, 1, 1, 0, 0, 0, 0, 0, 0, 0, 0, 0, 0, 0, 1, 1, 1, 0, 0, 0, 0, 0, 0, 0, 0, 0, 0, 0, 1, 1, 1, 0, 0, 0, 0, 0, 0, 0, 0, 0, 0, 0, 1, 1, 1, 0, 0, 0, 0, 0, 0, 0, 0, 0, 0, 0, 1, 1, 1, 0, 0, 0, 0, 0, 0, 0, 0, 0, 0, 0, 1, 1, 1, 0, 0, 0, 0, 0, 0, 0, 0, 0, 0, 0, 1, 1, 1, 0, 0, 0, 0, 0, 0, 0, 0, 0, 0, 0, 1, 1, 1, 1, 1, 1, 0, 0, 0, 0, 0, 0, 0, 0, 0, 0, 0], [0, 0, 0, 0, 0, 0, 0, 0, 0, 0, 0, 0, 0, 0, 0, 0, 0, 0, 0, 0, 0, 0, 0, 0, 0, 0, 0, 0, 0, 0, 0, 0, 0, 0, 0, 0, 0, 0, 0, 0, 0, 0, 0, 0, 0, 0, 0, 0, 0, 0, 0, 0, 0, 1, 1, 1, 1, 1, 1, 1, 1, 1, 1, 1, 1, 1, 1, 1, 1, 1, 1, 1, 1, 1, 1, 1, 1, 1, 1, 1, 1, 1, 1, 1, 1, 1, 1, 1, 1, 1, 1, 1, 1, 1, 1, 1, 1, 1, 1, 1, 1, 1, 1, 1, 1, 1, 1, 1, 1, 1, 1, 1, 1, 1, 1, 1, 1, 1, 1, 1, 1, 1, 1, 1, 1, 1, 1, 1, 1, 1, 1, 1, 1, 1, 1, 1, 1, 1, 1, 1, 1, 1, 1, 1, 0, 0, 0, 0, 0, 0, 0, 0, 0, 0, 0, 0, 0, 0, 0, 0, 0, 0, 0, 0, 0, 0, 0, 0, 0, 0, 0, 0, 0, 0, 0, 0, 0, 0, 0, 0, 0, 0, 0, 0, 0, 0, 0, 0, 0, 1, 1, 1, 1, 1, 1, 1, 1, 1, 1, 1, 1, 1, 1, 1, 0, 0, 0, 0, 0, 0, 0, 0, 0, 0, 0, 0, 0, 0, 0, 0, 0, 0, 0, 0, 0, 0, 0, 0, 0, 0, 0, 0, 0, 0, 0, 0, 0, 0, 0, 0, 0, 0, 0, 0, 0, 0, 0, 0, 0, 0, 0, 0, 0, 0, 0, 0, 0, 0, 0, 0, 0, 0, 0, 0, 0, 0, 1, 1, 1, 1, 1, 1, 1, 1, 1, 1, 1, 1, 1, 1, 1, 0, 0, 0, 0, 0, 0, 0, 0, 0, 0, 0, 0, 0, 0, 0, 0, 0, 0, 0, 0, 0, 0, 0, 0, 0, 0, 0, 0, 0, 0, 0, 0, 0, 1, 1, 1, 1, 1, 1, 1, 1, 1, 1, 1, 1, 1, 1, 1, 0, 0, 0, 0, 0, 0, 0, 0, 0, 0, 0, 0, 0, 0, 0, 0, 0, 0, 0, 0, 0, 0, 0, 0, 0, 0, 0, 0, 0, 0, 0, 0, 0, 0, 0, 0, 0, 0, 0, 0, 1, 1, 1, 1, 1, 1, 1, 1, 1, 1, 1, 1, 1, 1, 1, 0, 0, 0, 0, 0, 0, 0, 0, 0, 0, 0, 0, 0, 0, 0, 0, 0, 0, 0, 0, 0, 0, 0, 0, 0, 0, 0, 0, 0, 0, 0, 0, 0]]]\",\n          \"[[[1, 0, 0, 0, 0, 0, 0, 0, 0, 0, 1, 1, 0, 0, 0, 0, 0, 0, 0, 0, 0, 1, 1, 0, 0, 0, 0, 0, 0, 0, 0, 0, 0, 0, 1, 1, 1, 0, 0, 0, 0, 0, 0, 0, 0, 0, 0, 0, 1, 1, 1, 0, 0, 0, 0, 0, 0, 0, 0, 0, 0, 0, 1, 1, 1, 0, 0, 0, 0, 0, 0, 0, 0, 0, 0, 0, 1, 1, 1, 0, 0, 0, 0, 0, 0, 0, 0, 0, 0, 0, 1, 1, 1, 0, 0, 0, 0, 0, 0, 0, 0, 0, 0, 0], [0, 0, 0, 0, 0, 0, 0, 0, 0, 0, 0, 0, 0, 0, 0, 0, 0, 0, 0, 0, 0, 0, 0, 0, 0, 0, 0, 0, 0, 0, 0, 0, 0, 0, 0, 0, 0, 0, 0, 0, 0, 0, 0, 0, 0, 0, 0, 0, 0, 0, 0, 0, 0, 0, 0, 0, 0, 0, 0, 0, 0, 0, 0, 0, 0, 0, 0, 0, 0, 0, 0, 0, 0, 0, 0, 0, 0, 0, 0, 0, 0, 0, 0, 0, 0, 0, 0, 0, 0, 0, 0, 0, 0, 0, 0, 0, 0, 0, 0, 0, 0, 0, 0, 0, 0, 0, 0, 0, 0, 0, 0, 0, 0, 0, 0, 0, 0, 0, 0, 0, 0, 0, 0, 0, 0, 0, 0, 0, 0, 0, 0, 0, 0, 0, 0, 0, 0, 0, 0, 0, 0, 0, 0, 0, 0, 0, 0, 0, 0, 0, 0, 1, 1, 1, 1, 1, 1, 1, 1, 1, 1, 1, 1, 1, 1, 1, 1, 1, 1, 1, 1, 1, 1, 1, 1, 1, 1, 1, 1, 1, 1, 1, 1, 1, 1, 1, 1, 1, 1, 1, 1, 1, 1, 1, 1, 1, 1, 1, 1, 1, 1, 1, 1, 1, 1, 1, 1, 1, 1, 1, 1, 1, 1, 1, 1, 1, 1, 1, 1, 1, 1, 1, 1, 1, 1, 1, 0, 0, 0, 0, 0, 0, 0, 0, 0, 0, 0, 0, 0, 0, 0, 0, 0, 0, 0, 0, 0, 0, 0, 0, 0, 0, 0, 0, 0, 0, 0, 0, 0, 0, 1, 1, 1, 1, 1, 1, 1, 1, 1, 1, 1, 0, 0, 0, 0, 0, 0, 0, 0, 0, 0, 0, 0, 0, 0, 0, 0, 0, 0, 0, 0, 0, 0, 0, 0, 0, 0, 0, 0, 0, 0, 0, 0, 0, 0, 1, 1, 1, 1, 1, 1, 1, 1, 1, 1, 1, 0, 0, 0, 0, 0, 0, 0, 0, 0, 0, 0, 0, 0, 0, 0, 0, 0, 0, 0, 0, 0, 0, 0, 0, 0, 0, 0, 0, 0, 0, 0, 0, 0, 0, 1, 1, 1, 1, 1, 1, 1, 1, 1, 1, 1, 0, 0, 0, 0, 0, 0, 0, 0, 0, 0, 0, 0, 0, 0, 0, 0, 0, 0, 0, 0, 0, 0, 0, 0, 0, 0, 0, 0, 0, 0, 0, 0, 0, 1, 1, 1, 1, 1, 1, 1, 1, 1, 1, 1, 0, 0, 0, 0, 0, 0, 0, 0, 0, 0, 0, 0, 0, 0, 0, 0, 0, 0, 0, 0, 0, 0, 0, 0, 0, 0, 0, 0, 0, 0, 0, 0, 0, 0, 1, 1, 1, 1, 1, 1, 1, 1, 1, 1, 1, 0, 0, 0, 0, 0, 0, 0, 0, 0, 0, 0, 0, 0, 0, 0, 0, 0, 0, 0, 0, 0, 0, 0, 0, 0, 0, 0, 0, 0, 0, 0, 0, 0, 0, 0, 0, 0, 0, 1, 1, 1, 1, 1, 1, 1, 1, 1, 1, 1, 0, 0, 0, 0, 0, 0, 0, 0, 0, 0, 0, 0, 0, 0, 0, 0, 0, 0, 0, 0, 0, 0, 0, 0, 0, 0, 0, 0, 0, 0, 0, 0, 0, 0]]]\"\n        ],\n        \"semantic_type\": \"\",\n        \"description\": \"\"\n      }\n    }\n  ]\n}"
            }
          },
          "metadata": {},
          "execution_count": 15
        }
      ]
    },
    {
      "cell_type": "code",
      "source": [
        "import ast\n",
        "def convert_String_to_array(string_array):\n",
        "    nested_list = ast.literal_eval(string_array)\n",
        "\n",
        "    numpy_array_1 = np.array(nested_list[0])\n",
        "    numpy_array_2 = np.array(nested_list[1])\n",
        "    # print(numpy_array_1.shape)\n",
        "    # print(numpy_array_2.shape)\n",
        "    # numpy_array = np.concatenate((numpy_array_1, numpy_array_2), axis=0)\n",
        "    return numpy_array_1 , numpy_array_2"
      ],
      "metadata": {
        "id": "y7sKwSWSbzqc"
      },
      "execution_count": 16,
      "outputs": []
    },
    {
      "cell_type": "code",
      "source": [
        "def normalize_img(img):\n",
        "    #norm_img = (img - img.min()) / (img.max() - img.min())\n",
        "    norm_img = np.array(img,dtype= np.float32)/255.0\n",
        "    return norm_img"
      ],
      "metadata": {
        "id": "IDAaDfhS1Qsn"
      },
      "execution_count": 63,
      "outputs": []
    },
    {
      "cell_type": "code",
      "source": [
        "def make_image_row(row ,h , w,  new_shape= (512,512)):\n",
        "  img_row = np.zeros((h, w), dtype=np.uint8)\n",
        "  mask_img_row = np.where(row ==1 )\n",
        "  img_row[mask_img_row,:] = 1\n",
        "  img_row = cv2.resize(img_row, new_shape)\n",
        "  return np.array(img_row)\n",
        "\n",
        "def make_image_col(col,h , w, new_shape= (512,512)):\n",
        "  img_col = np.zeros((h, w), dtype=np.uint8)\n",
        "  mask_img_col = np.where(col ==1 )\n",
        "  img_col[:,mask_img_col] = 1\n",
        "  img_col = cv2.resize(img_col, new_shape)\n",
        "  return np.array(img_col)\n"
      ],
      "metadata": {
        "id": "vWeohJtGwak7"
      },
      "execution_count": 35,
      "outputs": []
    },
    {
      "cell_type": "code",
      "source": [
        "class DataGenerator(tf.keras.utils.Sequence) :\n",
        "    def __init__(self, data , batch_size= 1,dim = (1024,1024) , shuffle=True ):\n",
        "        self.data= data\n",
        "        self.indices= self.data.index.tolist()\n",
        "        self.batch_size = batch_size\n",
        "        self.dim = dim\n",
        "        self.shuffle = shuffle\n",
        "        self.on_epoch_end()\n",
        "    def __len__(self):\n",
        "        return int(np.ceil(len(self.data) / self.batch_size))\n",
        "    def __getitem__(self, index):\n",
        "        if (index + 1) * self.batch_size > len(self.indices):\n",
        "            self.batch_size = len(self.indices) - index * self.batch_size\n",
        "        index = self.indices[index * self.batch_size : (index + 1) * self.batch_size]\n",
        "        batch = [self.indices[k] for k in index]\n",
        "        image_input , gt_row, gt_col = self.data_generation(batch)\n",
        "        image_input = Image.open(data_path + image_input)\n",
        "        image_input = np.array(image_input)\n",
        "        h,w,c = image_input.shape\n",
        "        image_input = cv2.resize(image_input, (512,512))\n",
        "        image_input = image_input.astype('float')\n",
        "        image_input = normalize_img(image_input)\n",
        "        image_input= np.expand_dims(image_input, axis= 0)\n",
        "        row_image = make_image_row(gt_row, h, w)\n",
        "        row_image = np.expand_dims(row_image, axis= 0)\n",
        "        col_image = make_image_col(gt_col, h, w)\n",
        "        col_image = np.expand_dims(col_image, axis= 0)\n",
        "\n",
        "        #p = np.concatenate((c,d), axis = 0)\n",
        "        return image_input , {\"row\" :  row_image, \"col\": col_image}\n",
        "        #return x, {\"tl_heatmap\" : a, \"br_heatmap\":b, \"tag_concat\" :p , \"tl_reg\" :e, \"br_reg\"  : f , \"tags_mask\" :g }\n",
        "        #return x, {\"tl_heatmap\" : a, \"br_heatmap\":b, \"tl_tag\" :c ,\"br_tag\":d, \"tl_reg\" :e, \"br_reg\"  : f , \"tags_mask\" :g }\n",
        "\n",
        "    def on_epoch_end(self):\n",
        "        self.index = np.arange(len(self.indices))\n",
        "        if self.shuffle == True:\n",
        "            np.random.shuffle(self.index)\n",
        "\n",
        "    def data_generation(self, batch):\n",
        "      for i , batch_id in enumerate(batch):\n",
        "        image_input = self.data.iloc[batch_id, 0 ]\n",
        "        data = self.data.iloc[batch_id ,1]\n",
        "        data = data[1:-1]\n",
        "        data_1 , data_2 = convert_String_to_array(data)\n",
        "        #   image_input = data_path + image_input\n",
        "        #   json_data = data_path + json_data\n",
        "        #   image[i,]  = cv2.imread(image_input)\n",
        "        # print(image_input)\n",
        "        # data = data[0]\n",
        "        gt_row =data_1 # data[0]\n",
        "        gt_row = np.array(gt_row)\n",
        "        gt_col =data_2 # data[1]\n",
        "        gt_col = np.array(gt_col)\n",
        "        #print(f'laod {heatmap_tl.shape}')\n",
        "      return image_input , gt_row, gt_col"
      ],
      "metadata": {
        "id": "FgkfZsiJb4h8"
      },
      "execution_count": 64,
      "outputs": []
    },
    {
      "cell_type": "code",
      "source": [
        "def raw_image(image, row, col):\n",
        "    image_ = np.array(image)\n",
        "    h,w,c = np.array(image_).shape\n",
        "\n",
        "    mask_row_array = np.where(row == 1)\n",
        "    mask_col_array = np.where(col == 1)\n",
        "    image_[mask_row_array,:,:] = 0\n",
        "    image_[:,mask_col_array,:] = 0\n",
        "    plt.imshow(image_)\n",
        "    plt.show()\n",
        "\n",
        "def get_label_row_col(image, row, col, new_shape = (512,512),  draw_image = False):\n",
        "    image = np.array(image)\n",
        "    h,w,c = np.array(image).shape\n",
        "\n",
        "    # row\n",
        "    img_row = np.zeros((h, w), dtype=np.uint8)\n",
        "    mask_img_row = np.where(row ==1 )\n",
        "    img_row[mask_img_row,:] = 1\n",
        "    img_row = cv2.resize(img_row, new_shape)\n",
        "    row_label = img_row[:,1]\n",
        "    #col\n",
        "    img_col = np.zeros((h, w), dtype=np.uint8)\n",
        "    mask_img_col = np.where(col ==1 )\n",
        "    img_col[:,mask_img_col] = 1\n",
        "    img_col = cv2.resize(img_col, new_shape)\n",
        "    col_label = img_col[1,:]\n",
        "\n",
        "    if draw_image == True:\n",
        "        image_ = cv2.resize(image, new_shape)\n",
        "        mask_row_array = np.where(row_label == 1)\n",
        "        mask_col_array = np.where(col_label == 1)\n",
        "        image_[mask_row_array,:,:] = 0\n",
        "        image_[:,mask_col_array,:] = 0\n",
        "        plt.imshow(image_)\n",
        "        plt.show()\n",
        "    else:\n",
        "        image_ = cv2.resize(image, new_shape)\n",
        "    return image_, row_label, col_label"
      ],
      "metadata": {
        "id": "YzcY_i_Cb6z6"
      },
      "execution_count": 57,
      "outputs": []
    },
    {
      "cell_type": "code",
      "source": [
        "image_input , gt = next(iter(DataGenerator(data=final_data[0:].reset_index(drop=True), batch_size=1)))"
      ],
      "metadata": {
        "id": "KHwO6uxqb94A"
      },
      "execution_count": 65,
      "outputs": []
    },
    {
      "cell_type": "code",
      "source": [
        "a = gt[\"col\"][0]\n",
        "plt.imshow(a)\n",
        "plt.show()"
      ],
      "metadata": {
        "colab": {
          "base_uri": "https://localhost:8080/",
          "height": 435
        },
        "id": "hJW7-7pwmv4L",
        "outputId": "ff15980e-8374-4515-9a6d-1f8f3371fed8"
      },
      "execution_count": 48,
      "outputs": [
        {
          "output_type": "display_data",
          "data": {
            "text/plain": [
              "<Figure size 640x480 with 1 Axes>"
            ],
            "image/png": "[encoded data removed]"
          },
          "metadata": {}
        }
      ]
    },
    {
      "cell_type": "code",
      "source": [
        "a = gt[\"row\"][0]\n",
        "plt.imshow(a)\n",
        "plt.show()"
      ],
      "metadata": {
        "colab": {
          "base_uri": "https://localhost:8080/",
          "height": 435
        },
        "id": "ddkUE6HknSW-",
        "outputId": "01fcd5e9-179f-4dba-f8ad-033c7e3b0c3c"
      },
      "execution_count": 49,
      "outputs": [
        {
          "output_type": "display_data",
          "data": {
            "text/plain": [
              "<Figure size 640x480 with 1 Axes>"
            ],
            "image/png": "[encoded data removed]"
          },
          "metadata": {}
        }
      ]
    },
    {
      "cell_type": "code",
      "source": [
        "# image = Image.open(data_path + image_sample)\n",
        "plt.imshow(np.array(image_input[0]))\n",
        "plt.show()"
      ],
      "metadata": {
        "colab": {
          "base_uri": "https://localhost:8080/",
          "height": 435
        },
        "id": "Kzx5Oq-8dMgd",
        "outputId": "d1955d9e-760d-4925-bbe1-b9637c800765"
      },
      "execution_count": 66,
      "outputs": [
        {
          "output_type": "display_data",
          "data": {
            "text/plain": [
              "<Figure size 640x480 with 1 Axes>"
            ],
            "image/png": "[encoded data removed]"
          },
          "metadata": {}
        }
      ]
    },
    {
      "cell_type": "code",
      "source": [
        "# raw_image(image_input, gt[\"row\"], gt[\"col\"])"
      ],
      "metadata": {
        "id": "yg9uxnaWdWDM"
      },
      "execution_count": 46,
      "outputs": []
    },
    {
      "cell_type": "code",
      "source": [
        "a,b,c = get_label_row_col(image_input, gt[\"row\"], gt[\"col\"], draw_image= True)"
      ],
      "metadata": {
        "colab": {
          "base_uri": "https://localhost:8080/",
          "height": 263
        },
        "id": "r48pWPragBt_",
        "outputId": "03ee3afa-7b78-4df1-8659-1da97e7449cf"
      },
      "execution_count": 67,
      "outputs": [
        {
          "output_type": "error",
          "ename": "ValueError",
          "evalue": "too many values to unpack (expected 3)",
          "traceback": [
            "\u001b[0;31m---------------------------------------------------------------------------\u001b[0m",
            "\u001b[0;31mValueError\u001b[0m                                Traceback (most recent call last)",
            "\u001b[0;32m<ipython-input-67-43e9dab069e4>\u001b[0m in \u001b[0;36m<cell line: 1>\u001b[0;34m()\u001b[0m\n\u001b[0;32m----> 1\u001b[0;31m \u001b[0ma\u001b[0m\u001b[0;34m,\u001b[0m\u001b[0mb\u001b[0m\u001b[0;34m,\u001b[0m\u001b[0mc\u001b[0m \u001b[0;34m=\u001b[0m \u001b[0mget_label_row_col\u001b[0m\u001b[0;34m(\u001b[0m\u001b[0mimage_input\u001b[0m\u001b[0;34m,\u001b[0m \u001b[0mgt\u001b[0m\u001b[0;34m[\u001b[0m\u001b[0;34m\"row\"\u001b[0m\u001b[0;34m]\u001b[0m\u001b[0;34m,\u001b[0m \u001b[0mgt\u001b[0m\u001b[0;34m[\u001b[0m\u001b[0;34m\"col\"\u001b[0m\u001b[0;34m]\u001b[0m\u001b[0;34m,\u001b[0m \u001b[0mdraw_image\u001b[0m\u001b[0;34m=\u001b[0m \u001b[0;32mTrue\u001b[0m\u001b[0;34m)\u001b[0m\u001b[0;34m\u001b[0m\u001b[0;34m\u001b[0m\u001b[0m\n\u001b[0m",
            "\u001b[0;32m<ipython-input-57-09edee0023ab>\u001b[0m in \u001b[0;36mget_label_row_col\u001b[0;34m(image, row, col, new_shape, draw_image)\u001b[0m\n\u001b[1;32m     12\u001b[0m \u001b[0;32mdef\u001b[0m \u001b[0mget_label_row_col\u001b[0m\u001b[0;34m(\u001b[0m\u001b[0mimage\u001b[0m\u001b[0;34m,\u001b[0m \u001b[0mrow\u001b[0m\u001b[0;34m,\u001b[0m \u001b[0mcol\u001b[0m\u001b[0;34m,\u001b[0m \u001b[0mnew_shape\u001b[0m \u001b[0;34m=\u001b[0m \u001b[0;34m(\u001b[0m\u001b[0;36m512\u001b[0m\u001b[0;34m,\u001b[0m\u001b[0;36m512\u001b[0m\u001b[0;34m)\u001b[0m\u001b[0;34m,\u001b[0m  \u001b[0mdraw_image\u001b[0m \u001b[0;34m=\u001b[0m \u001b[0;32mFalse\u001b[0m\u001b[0;34m)\u001b[0m\u001b[0;34m:\u001b[0m\u001b[0;34m\u001b[0m\u001b[0;34m\u001b[0m\u001b[0m\n\u001b[1;32m     13\u001b[0m     \u001b[0mimage\u001b[0m \u001b[0;34m=\u001b[0m \u001b[0mnp\u001b[0m\u001b[0;34m.\u001b[0m\u001b[0marray\u001b[0m\u001b[0;34m(\u001b[0m\u001b[0mimage\u001b[0m\u001b[0;34m)\u001b[0m\u001b[0;34m\u001b[0m\u001b[0;34m\u001b[0m\u001b[0m\n\u001b[0;32m---> 14\u001b[0;31m     \u001b[0mh\u001b[0m\u001b[0;34m,\u001b[0m\u001b[0mw\u001b[0m\u001b[0;34m,\u001b[0m\u001b[0mc\u001b[0m \u001b[0;34m=\u001b[0m \u001b[0mnp\u001b[0m\u001b[0;34m.\u001b[0m\u001b[0marray\u001b[0m\u001b[0;34m(\u001b[0m\u001b[0mimage\u001b[0m\u001b[0;34m)\u001b[0m\u001b[0;34m.\u001b[0m\u001b[0mshape\u001b[0m\u001b[0;34m\u001b[0m\u001b[0;34m\u001b[0m\u001b[0m\n\u001b[0m\u001b[1;32m     15\u001b[0m \u001b[0;34m\u001b[0m\u001b[0m\n\u001b[1;32m     16\u001b[0m     \u001b[0;31m# row\u001b[0m\u001b[0;34m\u001b[0m\u001b[0;34m\u001b[0m\u001b[0m\n",
            "\u001b[0;31mValueError\u001b[0m: too many values to unpack (expected 3)"
          ]
        }
      ]
    },
    {
      "cell_type": "markdown",
      "source": [
        "# train"
      ],
      "metadata": {
        "id": "DHiflFr0d3BZ"
      }
    },
    {
      "cell_type": "code",
      "source": [
        "def custom_loss_function(row_true, row_pred, col_true, col_pred):\n",
        "  row_loss = tf.keras.losses.binary_crossentropy(row_true, row_pred)\n",
        "  col_loss = tf.keras.losses.binary_crossentropy(col_true, col_pred)\n",
        "  row_loss_mean = tf.reduce_mean(row_loss)\n",
        "  col_loss_mean = tf.reduce_mean(col_loss)\n",
        "  total_loss = row_loss_mean + col_loss_mean\n",
        "  return total_loss"
      ],
      "metadata": {
        "id": "gKYzvsdvrXxz"
      },
      "execution_count": 26,
      "outputs": []
    },
    {
      "cell_type": "code",
      "source": [
        "training_generator = DataGenerator(data=final_data[:4000].reset_index(drop=True), batch_size=1)"
      ],
      "metadata": {
        "id": "me9RuUpQd4EW"
      },
      "execution_count": 68,
      "outputs": []
    },
    {
      "cell_type": "code",
      "source": [
        "model.fit(training_generator, epochs= 2)"
      ],
      "metadata": {
        "colab": {
          "base_uri": "https://localhost:8080/"
        },
        "id": "kmMhIiNiwPMN",
        "outputId": "50c25eb6-b8f7-4c72-dd62-e0ba14945bbb"
      },
      "execution_count": null,
      "outputs": [
        {
          "output_type": "stream",
          "name": "stdout",
          "text": [
            "Epoch 1/2\n",
            " 335/4000 [=>............................] - ETA: 9:56:58 - loss: 0.9935 - activation_65_loss: 0.4872 - activation_64_loss: 0.5062 - activation_65_accuracy: 0.7517 - activation_64_accuracy: 0.8050"
          ]
        }
      ]
    },
    {
      "cell_type": "code",
      "source": [
        "# optimizer = tf.keras.optimizers.Adam()\n",
        "# loss_list = []\n",
        "# with open('/content/log_loss.txt','a') as file:\n",
        "#    for epoch in range(5):\n",
        "#     print(f'epoch : {epoch}')\n",
        "#     for step , data in enumerate(training_generator):\n",
        "#       image_input = data[0]\n",
        "#       gt_row = data[1]\n",
        "#       gt_col = data[2]\n",
        "#       image_input, gt_row , gt_col = get_label_row_col(image_input,gt_row,gt_col  )\n",
        "#       # print(image_input.shape)\n",
        "#       # print(gt_row.shape)\n",
        "#       # print(gt_col.shape)\n",
        "#       image_input = np.expand_dims(image_input, axis=0)\n",
        "#       gt_row = np.expand_dims(gt_row, axis=0)\n",
        "#       gt_col = np.expand_dims(gt_col, axis=0)\n",
        "#       with tf.GradientTape() as tape:\n",
        "#         out_1, out_2 = model(image_input, training=True)\n",
        "#         # print(\"aaaaaaaa\")\n",
        "#         # print(out_1)\n",
        "#         # loss_1 = tf.keras.losses.binary_crossentropy(gt_row, out_1)\n",
        "#         # print(loss_1.shape)\n",
        "#         # loss_2 = tf.keras.losses.binary_crossentropy(gt_col, out_2)\n",
        "#         loss = custom_loss_function(gt_row, out_1, gt_col, out_2)\n",
        "#         file.write(f'epoch_{epoch}  step_{step}    :   {loss}\\n')\n",
        "#         print(f'epoch_{epoch}  step_{step}    :   {loss}')\n",
        "#       gradients = tape.gradient(loss, model.trainable_variables)\n",
        "#       optimizer.apply_gradients(zip(gradients, model.trainable_variables))\n",
        "#       loss_list.append(loss.numpy())\n",
        "#     tg = tf.convert_to_tensor(loss_list)\n",
        "#     epoch_loss = tf.reduce_sum(tg)\n",
        "#     mean_epoch_loss = epoch_loss/len(loss_list)\n",
        "#     loss_list.clear()\n",
        "#     print(f'loss_value : {mean_epoch_loss}')\n"
      ],
      "metadata": {
        "id": "m5yUuRN9egNd"
      },
      "execution_count": 28,
      "outputs": []
    }
  ]
}